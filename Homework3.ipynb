{
 "cells": [
  {
   "cell_type": "markdown",
   "metadata": {},
   "source": [
    "# Jypyter Notebooks and Python Refresh Homework 3\n",
    "We are going to do the Python Refresh Homework in a juypyter Notebook. In this homework we will review the basic principles of python programming. You will work through a few questions and build some scripts. You will need the Bloom et al Dataset found in this repository. For each question add a cell to put your answer in either as a text cell or a code cell following the question.\n",
    "\n",
    "### Markdown\n",
    "Here is a [markdown refresh](https://programminghistorian.org/en/lessons/getting-started-with-markdown)\n",
    "\n",
    "### General concepts to refresh and lessons to review if you need them:\n",
    "\n",
    "Here is a nice [Python_Refresh](https://pythonforbiologists.com/introduction) that goes over the majority of the basic python commands.\n",
    "\n",
    "Remember these Primers from Last Semester\n",
    "\n",
    "[Python_Primer1](https://github.com/tparchman/BIOL792_course_site/blob/master/week6_pythonI/python_1_primer.md) \n",
    "\n",
    "[Lists_for_loops](https://github.com/tparchman/BIOL792_course_site/blob/master/week7_pythonII/python_2_primer.md)\n",
    "\n",
    "[Input_Output](https://github.com/tparchman/BIOL792_course_site/blob/master/week8_python3/python_3_primer.md)\n",
    "\n",
    "[Dictionaries](https://github.com/tparchman/BIOL792_course_site/blob/master/week11_python6/primer_python6.md)\n",
    "\n",
    "\n",
    "### Remember these Common commands as you work through this exercise\n",
    "\tdata types\n",
    "\tlists and dictionaries \n",
    "\tif while and for loops\n",
    "\treading files\n",
    "\n"
   ]
  },
  {
   "cell_type": "markdown",
   "metadata": {},
   "source": [
    "## Part I: Questions"
   ]
  },
  {
   "cell_type": "markdown",
   "metadata": {},
   "source": [
    "1.\tName one of the basic building blocks of programming and a small definition."
   ]
  },
  {
   "cell_type": "code",
   "execution_count": 2,
   "metadata": {},
   "outputs": [
    {
     "data": {
      "text/plain": [
       "('Variables',\n",
       " 'A variable is a named memory location that stores a value of a particular data type')"
      ]
     },
     "execution_count": 2,
     "metadata": {},
     "output_type": "execute_result"
    }
   ],
   "source": [
    "\"Variables\", \"A variable is a named memory location that stores a value of a particular data type\""
   ]
  },
  {
   "cell_type": "markdown",
   "metadata": {},
   "source": [
    "2.\tMatch the data type to the appropriate data\n",
    "    \n",
    "    **Data type:** string, integer, boolean, floating point\n",
    "    \n",
    "    **Data:** true, 123, 'I am a programmer', 34.63221\n"
   ]
  },
  {
   "cell_type": "code",
   "execution_count": 3,
   "metadata": {},
   "outputs": [
    {
     "data": {
      "text/plain": [
       "('true is boolean',\n",
       " '123 is integer',\n",
       " 'I am a programmer is string',\n",
       " '34.63221 is floating point')"
      ]
     },
     "execution_count": 3,
     "metadata": {},
     "output_type": "execute_result"
    }
   ],
   "source": [
    "\"true is boolean\", \"123 is integer\" , \"I am a programmer is string\", \"34.63221 is floating point\""
   ]
  },
  {
   "cell_type": "markdown",
   "metadata": {},
   "source": [
    "3.\tWhat would I get if I did tried to add these to numbers together ```123``` and ```5```.\n",
    "\t\t\n",
    "\t\ta) if the numbers were formatted as strings\n",
    "\t\t\n",
    "\t\tb) if they were formatted as integers"
   ]
  },
  {
   "cell_type": "code",
   "execution_count": 4,
   "metadata": {},
   "outputs": [
    {
     "name": "stdout",
     "output_type": "stream",
     "text": [
      "1235\n"
     ]
    }
   ],
   "source": [
    "a = \"123\"\n",
    "b = \"5\"\n",
    "c = a + b\n",
    "print(c)   # Output: \"1235\""
   ]
  },
  {
   "cell_type": "code",
   "execution_count": 5,
   "metadata": {},
   "outputs": [
    {
     "name": "stdout",
     "output_type": "stream",
     "text": [
      "128\n"
     ]
    }
   ],
   "source": [
    "a = 123\n",
    "b = 5\n",
    "c = a + b\n",
    "print(c)   # Output: 128"
   ]
  },
  {
   "cell_type": "markdown",
   "metadata": {},
   "source": [
    "4.\tLists, also called vectors, are one dimensional arrays and are a series of items. From the following list what would the question ```apple_list[3]``` return?  Remember we refer to items in a list by their position. Hint – remember how computers count.\n",
    "\t\t\n",
    "\t\t```apple_list=[‘banana’,’pear’,’kumquat’,’pomegranate’,’passion fruit’]```"
   ]
  },
  {
   "cell_type": "code",
   "execution_count": 7,
   "metadata": {},
   "outputs": [
    {
     "data": {
      "text/plain": [
       "'pomegranate'"
      ]
     },
     "execution_count": 7,
     "metadata": {},
     "output_type": "execute_result"
    }
   ],
   "source": [
    "\"pomegranate\""
   ]
  },
  {
   "cell_type": "markdown",
   "metadata": {},
   "source": [
    "5.\tName a difference between lists and dictionaries?"
   ]
  },
  {
   "cell_type": "code",
   "execution_count": 8,
   "metadata": {},
   "outputs": [
    {
     "data": {
      "text/plain": [
       "'One difference between lists and dictionaries is that lists are ordered collections of values that are indexed by integers, while dictionaries are unordered collections of key-value pairs that are indexed by keys.'"
      ]
     },
     "execution_count": 8,
     "metadata": {},
     "output_type": "execute_result"
    }
   ],
   "source": [
    "\"One difference between lists and dictionaries is that lists are ordered collections of values that are indexed by integers, while dictionaries are unordered collections of key-value pairs that are indexed by keys.\""
   ]
  },
  {
   "cell_type": "markdown",
   "metadata": {},
   "source": [
    "6.\tWhat would you get from this question from the following dictionary:  ```fruit_dict[‘pear’]```\n",
    "```\t\t\n",
    "\t\tfruit_dict = {}\n",
    "\t\tfruit_dict[‘apple’]=10\n",
    "\t\tfruit_dict[‘pear’] = 3\n",
    "\t\tfruit_dict[‘walnut’]=216\n",
    "```\n",
    "or in another way\n",
    "\n",
    "\n",
    "```\n",
    "fruit_dict = {\n",
    "    'apple':10,\n",
    "    'pear':3,\n",
    "    'walnut':216,\n",
    "}\n",
    "\n",
    "print(fruit_dict)\n",
    "```\n",
    "\n"
   ]
  },
  {
   "cell_type": "code",
   "execution_count": null,
   "metadata": {},
   "outputs": [],
   "source": [
    "\"it would return 3\""
   ]
  },
  {
   "cell_type": "markdown",
   "metadata": {},
   "source": [
    "7.\tIn python what does the function ```.replace()``` do?"
   ]
  },
  {
   "cell_type": "code",
   "execution_count": 9,
   "metadata": {},
   "outputs": [
    {
     "data": {
      "text/plain": [
       "'its a python function that replaces a string with other string'"
      ]
     },
     "execution_count": 9,
     "metadata": {},
     "output_type": "execute_result"
    }
   ],
   "source": [
    "\"its a python function that replaces a string with other string\""
   ]
  },
  {
   "cell_type": "markdown",
   "metadata": {},
   "source": [
    "8.\tHow do you print something in python?  For example write a print statement to print “hello world!”"
   ]
  },
  {
   "cell_type": "code",
   "execution_count": 11,
   "metadata": {},
   "outputs": [
    {
     "name": "stdout",
     "output_type": "stream",
     "text": [
      "hello world!\n"
     ]
    }
   ],
   "source": [
    "print(\"hello world!\")"
   ]
  },
  {
   "cell_type": "markdown",
   "metadata": {},
   "source": [
    "9.\tName one place you can go to get help with python?"
   ]
  },
  {
   "cell_type": "code",
   "execution_count": null,
   "metadata": {},
   "outputs": [],
   "source": [
    "\"Stackoverflow, python documentations\""
   ]
  },
  {
   "cell_type": "markdown",
   "metadata": {},
   "source": [
    "10.\tWhat is an ```if``` statement and when would you use one?"
   ]
  },
  {
   "cell_type": "code",
   "execution_count": 17,
   "metadata": {},
   "outputs": [
    {
     "data": {
      "text/plain": [
       "'if statement is a control flow statement that allows you to execute a block of code only if a certain condition is true'"
      ]
     },
     "execution_count": 17,
     "metadata": {},
     "output_type": "execute_result"
    }
   ],
   "source": [
    "\"if statement is a control flow statement that allows you to execute a block of code only if a certain condition is true\""
   ]
  },
  {
   "cell_type": "code",
   "execution_count": 19,
   "metadata": {},
   "outputs": [
    {
     "data": {
      "text/plain": [
       "\"if (age>60): print('you are old')\""
      ]
     },
     "execution_count": 19,
     "metadata": {},
     "output_type": "execute_result"
    }
   ],
   "source": [
    "#for example, i have list of age and i want to say you are old\n",
    "\n",
    "\"if (age>60): print('you are old')\""
   ]
  },
  {
   "cell_type": "markdown",
   "metadata": {},
   "source": [
    "11.\tFrom this list:  ```container_list = [‘can’,’jar’,’hat’]``` What would be returned from this: ```container_list[0:2]```.  Hint: Remember one number is inclusive and one exclusive."
   ]
  },
  {
   "cell_type": "code",
   "execution_count": 22,
   "metadata": {},
   "outputs": [
    {
     "data": {
      "text/plain": [
       "['can', 'jar']"
      ]
     },
     "execution_count": 22,
     "metadata": {},
     "output_type": "execute_result"
    }
   ],
   "source": [
    "container_list = ['can','jar','hat']\n",
    "container_list[0:2] #answer ['can', 'jar']"
   ]
  },
  {
   "cell_type": "markdown",
   "metadata": {},
   "source": [
    "12.\tWhat is the difference between an ```if``` statement and a ```while``` loop?\n"
   ]
  },
  {
   "cell_type": "code",
   "execution_count": 23,
   "metadata": {},
   "outputs": [
    {
     "data": {
      "text/plain": [
       "'they are both a control flow statements but while is like a continuous loop that keeps working as long as the condition is true but if will respond to each input seperately'"
      ]
     },
     "execution_count": 23,
     "metadata": {},
     "output_type": "execute_result"
    }
   ],
   "source": [
    "\"they are both a control flow statements but while is like a continuous loop that keeps working as long as the condition is true but if will respond to each input seperately\""
   ]
  },
  {
   "cell_type": "markdown",
   "metadata": {},
   "source": [
    "13.\tWhat would you get with the command ```fruit_dict.keys()```  after entering this dictionary:  \n",
    "\t\tfruit_dict = {}\n",
    "\t\tfruit_dict[‘apple’]=10\n",
    "\t\tfruit_dict[‘pear’] = 3\n",
    "\t\tfruit_dict[‘walnut’]=216"
   ]
  },
  {
   "cell_type": "code",
   "execution_count": 25,
   "metadata": {},
   "outputs": [
    {
     "data": {
      "text/plain": [
       "dict_keys(['apple', 'pear', 'walnut'])"
      ]
     },
     "execution_count": 25,
     "metadata": {},
     "output_type": "execute_result"
    }
   ],
   "source": [
    "fruit_dict = {} \n",
    "fruit_dict['apple']=10 \n",
    "fruit_dict['pear'] = 3 \n",
    "fruit_dict['walnut']=216\n",
    "fruit_dict.keys() # Answer dict_keys(['apple', 'pear', 'walnut'])"
   ]
  },
  {
   "cell_type": "markdown",
   "metadata": {},
   "source": [
    "14.\tIn this statement: ```InFileName = open(InFileName, ‘r’)``` what does the ‘r’ indicate ?"
   ]
  },
  {
   "cell_type": "code",
   "execution_count": 26,
   "metadata": {},
   "outputs": [
    {
     "data": {
      "text/plain": [
       "'read mode'"
      ]
     },
     "execution_count": 26,
     "metadata": {},
     "output_type": "execute_result"
    }
   ],
   "source": [
    "\"read mode\""
   ]
  },
  {
   "cell_type": "markdown",
   "metadata": {},
   "source": [
    "15.\tWhat does this command do? ```Line.strip(‘\\n’)``` why would you use it when printing out lines to the screen?"
   ]
  },
  {
   "cell_type": "code",
   "execution_count": 27,
   "metadata": {},
   "outputs": [
    {
     "data": {
      "text/plain": [
       "\"The command Line.strip('\\n') removes the newline character '\\n' from the end of the string Line.\""
      ]
     },
     "execution_count": 27,
     "metadata": {},
     "output_type": "execute_result"
    }
   ],
   "source": [
    "\"The command Line.strip('\\n') removes the newline character '\\n' from the end of the string Line.\""
   ]
  },
  {
   "cell_type": "markdown",
   "metadata": {},
   "source": [
    "16.\tHow would you split a line from a csv file into a list"
   ]
  },
  {
   "cell_type": "code",
   "execution_count": 28,
   "metadata": {},
   "outputs": [
    {
     "data": {
      "text/plain": [
       "'\\nwith open(\\'my_file.csv\\', newline=\\'\\') as csvfile:\\n    # Create a CSV reader object\\n    reader = csv.reader(csvfile, delimiter=\\',\\', quotechar=\\'\"\\')\\n    \\n    # Create an empty list to hold the rows\\n    rows = []\\n    \\n    # Loop through the rows in the CSV file\\n    for row in reader:\\n        # Add the row to the list of rows\\n        rows.append(row)\\n'"
      ]
     },
     "execution_count": 28,
     "metadata": {},
     "output_type": "execute_result"
    }
   ],
   "source": [
    "'''\n",
    "with open('my_file.csv', newline='') as csvfile:\n",
    "    # Create a CSV reader object\n",
    "    reader = csv.reader(csvfile, delimiter=',', quotechar='\"')\n",
    "    \n",
    "    # Create an empty list to hold the rows\n",
    "    rows = []\n",
    "    \n",
    "    # Loop through the rows in the CSV file\n",
    "    for row in reader:\n",
    "        # Add the row to the list of rows\n",
    "        rows.append(row)\n",
    "'''"
   ]
  },
  {
   "cell_type": "markdown",
   "metadata": {},
   "source": [
    "## Part II:  Practice Scripts\n",
    "Below each question write the name of the script so I can find them. All scripts should be documented with in-line documentation."
   ]
  },
  {
   "cell_type": "markdown",
   "metadata": {},
   "source": [
    "1.\tCreate a documented python script that would \n",
    "\n",
    "\t\t**a.** take this number 112345678911234566 and count the number of 2s in the string and print out the number. \n",
    "\n",
    "\t\t**b.** take a sentence from user input, turn it all to lowercase letters and remove the spaces and count the length and print out the length.  You choose the sentence. \n"
   ]
  },
  {
   "cell_type": "code",
   "execution_count": 29,
   "metadata": {},
   "outputs": [
    {
     "name": "stdout",
     "output_type": "stream",
     "text": [
      "The number of 2s in 112345678911234566 is 2.\n"
     ]
    }
   ],
   "source": [
    "# Part A\n",
    "\n",
    "#This program takes a long number and counts the number of 2s in the string.\n",
    "\n",
    "number = '112345678911234566'\n",
    "count = number.count('2')\n",
    "print(f'The number of 2s in {number} is {count}.')\n"
   ]
  },
  {
   "cell_type": "code",
   "execution_count": 30,
   "metadata": {},
   "outputs": [
    {
     "name": "stdout",
     "output_type": "stream",
     "text": [
      "Please enter a sentence: Sahar MOHAMMED\n",
      "The length of the sentence \"saharmohammed\" is 13.\n"
     ]
    }
   ],
   "source": [
    "# Part B\n",
    "\n",
    "# this program takes a sentence from user input, turns it to lowercase, removes the spaces, \n",
    "# and counts the length of the resulting string.\n",
    "\n",
    "sentence = input('Please enter a sentence: ')\n",
    "sentence = sentence.lower().replace(' ', '')\n",
    "length = len(sentence)\n",
    "print(f'The length of the sentence \"{sentence}\" is {length}.')"
   ]
  },
  {
   "cell_type": "markdown",
   "metadata": {},
   "source": [
    "2.\tCreate a documented python script that will do the following two things. For each task, first write the pseudocode, comment out the pseudocode and beneath the pseudocode write the script.\n",
    "\n",
    "\t\t**a.** Create a list of numbers (any numbers you like). Then loop through the items in the list adding 1 to every number and print those numbers.\n",
    "\n",
    "\t\t**b.** Create a dictionary of animals and their sizes (make up whatever you want). Print out the keys of the dictionary. Make a list of all the animals and then write an if else statement to print out the animal name and the word “big” if the weight is over 20 grams and the word “small” if the weight is less than 20 grams. "
   ]
  },
  {
   "cell_type": "code",
   "execution_count": 31,
   "metadata": {},
   "outputs": [
    {
     "name": "stdout",
     "output_type": "stream",
     "text": [
      "3\n",
      "5\n",
      "7\n",
      "9\n",
      "11\n"
     ]
    }
   ],
   "source": [
    "# part A\n",
    "\n",
    "# pseudocode:\n",
    "# 1. Create a list of numbers\n",
    "# 2. Loop through the list\n",
    "# 3. Add 1 to each number\n",
    "# 4. Print the updated number\n",
    "\n",
    "numbers = [2, 4, 6, 8, 10]\n",
    "\n",
    "for num in numbers:\n",
    "    num += 1\n",
    "    print(num)\n"
   ]
  },
  {
   "cell_type": "code",
   "execution_count": 32,
   "metadata": {},
   "outputs": [
    {
     "name": "stdout",
     "output_type": "stream",
     "text": [
      "dict_keys(['elephant', 'mouse', 'giraffe', 'squirrel'])\n",
      "elephant is big\n",
      "mouse is small\n",
      "giraffe is big\n",
      "squirrel is small\n"
     ]
    }
   ],
   "source": [
    "# part B\n",
    "\n",
    "# pseudocode:\n",
    "# 1. Create a dictionary of animals and their sizes\n",
    "# 2. Print the keys of the dictionary\n",
    "# 3. Create a list of all the animals\n",
    "# 4. Loop through the animals in the list\n",
    "# 5. Check if the weight of the animal is greater than 20, print the animal name and \"big\"\n",
    "# 6. else, print the animal name and \"small\"\n",
    "\n",
    "animals = {\"elephant\": 500, \"mouse\": 0.2, \"giraffe\": 200, \"squirrel\": 5}\n",
    "\n",
    "print(animals.keys())\n",
    "\n",
    "animal_list = list(animals.keys())\n",
    "\n",
    "for animal in animal_list:\n",
    "    if animals[animal] > 20:\n",
    "        print(animal + \" is big\")\n",
    "    else:\n",
    "        print(animal + \" is small\")\n"
   ]
  },
  {
   "cell_type": "markdown",
   "metadata": {},
   "source": [
    "3.\tCreate a documented python script that will open up the file “Bloom_etal_2018_Reduced_Dataset”.  Read through the file and print out the taxon name and their diadromous status. Add up all of the log body sizes and print out the total log body size for all the individuals in the file.  "
   ]
  },
  {
   "cell_type": "code",
   "execution_count": 56,
   "metadata": {},
   "outputs": [
    {
     "name": "stdout",
     "output_type": "stream",
     "text": [
      "[('ï»¿taxa', 'Reg'), ('Alosa_alabamae', 'diadromous'), ('Alosa_alosa', 'diadromous'), ('Alosa_fallax', 'diadromous'), ('Alosa_mediocris', 'diadromous'), ('Alosa_pseudoharengus', 'diadromous'), ('Alosa_sapidissima', 'diadromous'), ('Amazonsprattus_scintilla', 'non-diadromous'), ('Anchoa_chamensis', 'non-diadromous'), ('Anchoa_cubana', 'non-diadromous'), ('Anchoa_delicatissima', 'non-diadromous'), ('Anchoa_lamprotaenia', 'non-diadromous'), ('Anchoa_lyolepis', 'non-diadromous'), ('Anchoa_parva', 'non-diadromous'), ('Anchoa_schofieldi', 'non-diadromous'), ('Anchovia_surinamensis', 'non-diadromous'), ('Anchoviella_balboae', 'non-diadromous'), ('Anchoviella_brevirostris', 'non-diadromous'), ('Anchoviella_jamesi', 'non-diadromous'), ('Anchoviella_lepidentostole', 'diadromous'), ('Anchoviella_manamensis', 'non-diadromous'), ('Anodontostoma_chacunda', 'diadromous'), ('Cetengraulis_edentulus', 'non-diadromous'), ('Chirocentrodon_bleekerianus', 'non-diadromous'), ('Clupeichthys_perakensis', 'non-diadromous'), ('Clupeoides_borneensis', 'non-diadromous'), ('Coilia_nasus', 'diadromous'), ('Ehirava_fluviatilis', 'non-diadromous'), ('Encrasicholina_devisi', 'non-diadromous'), ('Engraulis_eurystole', 'non-diadromous'), ('Escualosa_thoracata', 'non-diadromous'), ('Ethmalosa_fimbriata', 'diadromous'), ('Gilchristella_aestuaria', 'non-diadromous'), ('Hilsa_kelee', 'diadromous'), ('Hyperlophus_vittatus', 'non-diadromous'), ('Jenkinsia_lamprotaenia', 'non-diadromous'), ('Microthrissa_congica', 'non-diadromous'), ('Pellona_harroweri', 'non-diadromous'), ('Pellonula_leonensis', 'diadromous'), ('Pellonula_vorax', 'diadromous'), ('Potamalosa_richmondia', 'diadromous'), ('Ramnogaster_sp', 'non-diadromous'), ('Rhinosardinia_bahiensis', 'non-diadromous'), ('Sauvagella_robusta', 'non-diadromous'), ('Sierrathrissa_leonensis', 'non-diadromous'), ('Spratelloides_delicatulus', 'non-diadromous'), ('Stolephorus_waitei', 'non-diadromous'), ('Stolothrissa_tanganicae', 'non-diadromous'), ('Sundasalanx_mekongensis', 'non-diadromous'), ('Tenualosa_ilisha', 'diadromous'), ('Thryssa_cf_dussumieri', 'non-diadromous')]\n",
      "Total log body size: 52.079318752000006\n"
     ]
    }
   ],
   "source": [
    "import csv\n",
    "import numpy as np\n",
    "\n",
    "filename = \"Bloom_etal_2018_Reduced_Dataset.csv\"\n",
    "\n",
    "# Initialize the total log body size to zero\n",
    "total_log_body_size =0\n",
    "\n",
    "# Open the file and read its contents\n",
    "with open(filename) as file:\n",
    "    reader = csv.reader(file)\n",
    "    \n",
    "    # Create an empty list to hold the rows\n",
    "    rows = []\n",
    "    \n",
    "    # Loop through the rows in the CSV file\n",
    "    for row in reader:\n",
    "        # Add the row to the list of rows\n",
    "        new=(row[0],row[3])\n",
    "        rows.append(new)\n",
    "        # Add the log body size to the total\n",
    "        if reader.line_num == 1:\n",
    "            continue\n",
    "            \n",
    "        log=row[1]\n",
    "        total_log_body_size += float(log)\n",
    "        \n",
    "   \n",
    "# print the taxon name and their diadromous status\n",
    "print(rows)\n",
    "# Print the total log body size\n",
    "print(\"Total log body size:\", total_log_body_size)"
   ]
  },
  {
   "cell_type": "code",
   "execution_count": null,
   "metadata": {},
   "outputs": [],
   "source": []
  }
 ],
 "metadata": {
  "kernelspec": {
   "display_name": "Python 3 (ipykernel)",
   "language": "python",
   "name": "python3"
  },
  "language_info": {
   "codemirror_mode": {
    "name": "ipython",
    "version": 3
   },
   "file_extension": ".py",
   "mimetype": "text/x-python",
   "name": "python",
   "nbconvert_exporter": "python",
   "pygments_lexer": "ipython3",
   "version": "3.9.13"
  }
 },
 "nbformat": 4,
 "nbformat_minor": 4
}
